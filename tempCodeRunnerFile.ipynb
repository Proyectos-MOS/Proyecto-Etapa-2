for v in model.V:
    actual = 0
    carga = 0
    distancia_total = 0
    visitados = set()
    
    while True:
        nxt = next((j for j in model.N if j != actual and model.x[actual, j, v].value > 0.5), None)
        if nxt is None or nxt in visitados:
            break

        if nxt in model.C:
            llegada_min = model.t_arrival[nxt, v].value
            llegada_hora = convertir_a_horas(llegada_min)

            ventana_inicio, ventana_fin = time_windows[nxt]
            dentro_ventana = ventana_inicio <= llegada_min <= ventana_fin

            carga += demanda[nxt]
            dentro_capacidad = carga <= capacidad[v]

            # Calcular la distancia entre el nodo actual y el siguiente
            distancia = model.dist[actual, nxt, v]
            distancia_total += distancia

            # Obtener el rango máximo del vehículo
            rango_maximo = rango_vehiculo[v]

            # Verificar si la distancia total está dentro del rango del vehículo
            dentro_rango = distancia_total <= rango_maximo

            # Agregar los datos a la lista
            verificacion_data.append([
                v,
                tipo_vehiculo[v],
                formatear_nodo(actual),
                formatear_nodo(nxt),
                llegada_hora,
                f"{convertir_a_horas(ventana_inicio)} - {convertir_a_horas(ventana_fin)}",
                "Sí" if dentro_ventana else "No",
                carga,
                capacidad[v],
                "Sí" if dentro_capacidad else "No",
                f"{distancia_total:.2f} km",
                rango_maximo,
                "Sí" if dentro_rango else "No"
            ])

            visitados.add(nxt)
        actual = nxt

# Guardar el CSV
with open("verification/verificacion_case3.csv", mode="w", newline="", encoding="utf-8") as f:
    writer = csv.writer(f)
    writer.writerow([
        "Vehículo", "Tipo", "Nodo Origen", "Nodo Destino", "Llegada (HH:MM)",
        "Ventana (Inicio - Fin)", "Dentro de ventana",
        "Demanda acumulada", "Capacidad vehículo", "Dentro de capacidad",
        "Distancia total acumulada (km)", "Rango máximo (km)", "Dentro del rango"
    ])
    writer.writerows(verificacion_data)

print("Archivo 'caso3verificacion.csv' guardado correctam